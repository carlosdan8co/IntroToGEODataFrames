{
  "nbformat": 4,
  "nbformat_minor": 0,
  "metadata": {
    "kernelspec": {
      "display_name": "Python 3",
      "language": "python",
      "name": "python3"
    },
    "language_info": {
      "codemirror_mode": {
        "name": "ipython",
        "version": 3
      },
      "file_extension": ".py",
      "mimetype": "text/x-python",
      "name": "python",
      "nbconvert_exporter": "python",
      "pygments_lexer": "ipython3",
      "version": "3.7.7"
    },
    "colab": {
      "name": "IntroToGEODataframes.ipynb",
      "provenance": [],
      "include_colab_link": true
    }
  },
  "cells": [
    {
      "cell_type": "markdown",
      "metadata": {
        "id": "view-in-github",
        "colab_type": "text"
      },
      "source": [
        "<a href=\"https://colab.research.google.com/github/carlosdan8co/IntroToGEODataFrames/blob/master/IntroToGEODataframes.ipynb\" target=\"_parent\"><img src=\"https://colab.research.google.com/assets/colab-badge.svg\" alt=\"Open In Colab\"/></a>"
      ]
    },
    {
      "cell_type": "code",
      "metadata": {
        "id": "AXOilpDgs1xi",
        "colab_type": "code",
        "colab": {
          "base_uri": "https://localhost:8080/",
          "height": 139
        },
        "outputId": "dd89bf3a-2b58-4a53-bb1b-f0f8fb3fdf2a"
      },
      "source": [
        "# Mount Google Drive\n",
        "from google.colab import drive # import drive from google colab\n",
        "\n",
        "ROOT = \"/content/drive\"     # default location for the drive\n",
        "print(ROOT)                 # print content of ROOT (Optional)\n",
        "\n",
        "drive.mount(ROOT)           # we mount the google drive at /content/drive"
      ],
      "execution_count": 1,
      "outputs": [
        {
          "output_type": "stream",
          "text": [
            "/content/drive\n",
            "Go to this URL in a browser: https://accounts.google.com/o/oauth2/auth?client_id=947318989803-6bn6qk8qdgf4n4g3pfee6491hc0brc4i.apps.googleusercontent.com&redirect_uri=urn%3aietf%3awg%3aoauth%3a2.0%3aoob&response_type=code&scope=email%20https%3a%2f%2fwww.googleapis.com%2fauth%2fdocs.test%20https%3a%2f%2fwww.googleapis.com%2fauth%2fdrive%20https%3a%2f%2fwww.googleapis.com%2fauth%2fdrive.photos.readonly%20https%3a%2f%2fwww.googleapis.com%2fauth%2fpeopleapi.readonly\n",
            "\n",
            "Enter your authorization code:\n",
            "··········\n",
            "Mounted at /content/drive\n"
          ],
          "name": "stdout"
        }
      ]
    },
    {
      "cell_type": "code",
      "metadata": {
        "id": "3COCwM8ytKEP",
        "colab_type": "code",
        "colab": {
          "base_uri": "https://localhost:8080/",
          "height": 68
        },
        "outputId": "f140888c-368b-47c1-aac5-50c276e553b6"
      },
      "source": [
        "# Clone github repository setup\n",
        "# import join used to join ROOT path and MY_GOOGLE_DRIVE_PATH\n",
        "from os.path import join  \n",
        "\n",
        "# path to your project on Google Drive\n",
        "MY_GOOGLE_DRIVE_PATH = 'My Drive/Python/Github' \n",
        "# replace with your Github username \n",
        "GIT_USERNAME = \"carlosdan8co\" \n",
        "# definitely replace with your\n",
        "GIT_TOKEN = \"{KEY}\"  \n",
        "# Replace with your github repository in this case we want \n",
        "# to clone deep-learning-v2-pytorch repository\n",
        "GIT_REPOSITORY = \"IntroToGEODataFrames\" \n",
        "\n",
        "PROJECT_PATH = join(ROOT, MY_GOOGLE_DRIVE_PATH)\n",
        "\n",
        "# It's good to print out the value if you are not sure \n",
        "print(\"PROJECT_PATH: \", PROJECT_PATH)   \n",
        "\n",
        "# In case we haven't created the folder already; we will create a folder in the project path \n",
        "!mkdir \"{PROJECT_PATH}\"    \n",
        "\n",
        "#GIT_PATH = \"https://{GIT_TOKEN}@github.com/{GIT_USERNAME}/{GIT_REPOSITORY}.git\" this return 400 Bad Request for me\n",
        "GIT_PATH = \"https://\" + GIT_TOKEN + \"@github.com/\" + GIT_USERNAME + \"/\" + GIT_REPOSITORY + \".git\"\n",
        "print(\"GIT_PATH: \", GIT_PATH)"
      ],
      "execution_count": 44,
      "outputs": [
        {
          "output_type": "stream",
          "text": [
            "PROJECT_PATH:  /content/drive/My Drive/Python/Github\n",
            "mkdir: cannot create directory ‘/content/drive/My Drive/Python/Github’: File exists\n",
            "GIT_PATH:  https://{KEY}@github.com/carlosdan8co/IntroToGEODataFrames.git\n"
          ],
          "name": "stdout"
        }
      ]
    },
    {
      "cell_type": "code",
      "metadata": {
        "id": "DG_BWFMf1c5i",
        "colab_type": "code",
        "colab": {
          "base_uri": "https://localhost:8080/",
          "height": 462
        },
        "outputId": "6538d738-144a-4c8a-e9f4-df2c08d9e1bd"
      },
      "source": [
        "!pip install geopandas"
      ],
      "execution_count": 46,
      "outputs": [
        {
          "output_type": "stream",
          "text": [
            "Collecting geopandas\n",
            "\u001b[?25l  Downloading https://files.pythonhosted.org/packages/f7/a4/e66aafbefcbb717813bf3a355c8c4fc3ed04ea1dd7feb2920f2f4f868921/geopandas-0.8.1-py2.py3-none-any.whl (962kB)\n",
            "\u001b[K     |████████████████████████████████| 972kB 2.8MB/s \n",
            "\u001b[?25hCollecting pyproj>=2.2.0\n",
            "\u001b[?25l  Downloading https://files.pythonhosted.org/packages/e5/c3/071e080230ac4b6c64f1a2e2f9161c9737a2bc7b683d2c90b024825000c0/pyproj-2.6.1.post1-cp36-cp36m-manylinux2010_x86_64.whl (10.9MB)\n",
            "\u001b[K     |████████████████████████████████| 10.9MB 18.2MB/s \n",
            "\u001b[?25hRequirement already satisfied: pandas>=0.23.0 in /usr/local/lib/python3.6/dist-packages (from geopandas) (1.0.5)\n",
            "Requirement already satisfied: shapely in /usr/local/lib/python3.6/dist-packages (from geopandas) (1.7.0)\n",
            "Collecting fiona\n",
            "\u001b[?25l  Downloading https://files.pythonhosted.org/packages/ec/20/4e63bc5c6e62df889297b382c3ccd4a7a488b00946aaaf81a118158c6f09/Fiona-1.8.13.post1-cp36-cp36m-manylinux1_x86_64.whl (14.7MB)\n",
            "\u001b[K     |████████████████████████████████| 14.7MB 302kB/s \n",
            "\u001b[?25hRequirement already satisfied: python-dateutil>=2.6.1 in /usr/local/lib/python3.6/dist-packages (from pandas>=0.23.0->geopandas) (2.8.1)\n",
            "Requirement already satisfied: pytz>=2017.2 in /usr/local/lib/python3.6/dist-packages (from pandas>=0.23.0->geopandas) (2018.9)\n",
            "Requirement already satisfied: numpy>=1.13.3 in /usr/local/lib/python3.6/dist-packages (from pandas>=0.23.0->geopandas) (1.18.5)\n",
            "Collecting cligj>=0.5\n",
            "  Downloading https://files.pythonhosted.org/packages/e4/be/30a58b4b0733850280d01f8bd132591b4668ed5c7046761098d665ac2174/cligj-0.5.0-py3-none-any.whl\n",
            "Requirement already satisfied: attrs>=17 in /usr/local/lib/python3.6/dist-packages (from fiona->geopandas) (19.3.0)\n",
            "Collecting click-plugins>=1.0\n",
            "  Downloading https://files.pythonhosted.org/packages/e9/da/824b92d9942f4e472702488857914bdd50f73021efea15b4cad9aca8ecef/click_plugins-1.1.1-py2.py3-none-any.whl\n",
            "Collecting munch\n",
            "  Downloading https://files.pythonhosted.org/packages/cc/ab/85d8da5c9a45e072301beb37ad7f833cd344e04c817d97e0cc75681d248f/munch-2.5.0-py2.py3-none-any.whl\n",
            "Requirement already satisfied: click<8,>=4.0 in /usr/local/lib/python3.6/dist-packages (from fiona->geopandas) (7.1.2)\n",
            "Requirement already satisfied: six>=1.7 in /usr/local/lib/python3.6/dist-packages (from fiona->geopandas) (1.15.0)\n",
            "Installing collected packages: pyproj, cligj, click-plugins, munch, fiona, geopandas\n",
            "Successfully installed click-plugins-1.1.1 cligj-0.5.0 fiona-1.8.13.post1 geopandas-0.8.1 munch-2.5.0 pyproj-2.6.1.post1\n"
          ],
          "name": "stdout"
        }
      ]
    },
    {
      "cell_type": "code",
      "metadata": {
        "id": "lXlQG7uu-gQW",
        "colab_type": "code",
        "colab": {}
      },
      "source": [
        "import pandas as pd\n",
        "import geopandas as gpd\n",
        "from shapely.geometry import Point\n",
        "%matplotlib inline"
      ],
      "execution_count": 47,
      "outputs": []
    },
    {
      "cell_type": "code",
      "metadata": {
        "id": "jG7WCKRw-we3",
        "colab_type": "code",
        "colab": {}
      },
      "source": [
        "states=gpd.read_file('states/destdv250k_2cw.shp')"
      ],
      "execution_count": 48,
      "outputs": []
    },
    {
      "cell_type": "code",
      "metadata": {
        "id": "cCv06nna_FbO",
        "colab_type": "code",
        "colab": {
          "base_uri": "https://localhost:8080/",
          "height": 68
        },
        "outputId": "8f6e2f9d-1ec7-4ad9-aa8d-95b1513e298a"
      },
      "source": [
        "states.columns"
      ],
      "execution_count": 52,
      "outputs": [
        {
          "output_type": "execute_result",
          "data": {
            "text/plain": [
              "Index(['AREA', 'PERIMETER', 'COV_', 'COV_ID', 'ENTIDAD', 'CAPITAL',\n",
              "       'RASGO_GEOG', 'NUM_EDO', 'geometry'],\n",
              "      dtype='object')"
            ]
          },
          "metadata": {
            "tags": []
          },
          "execution_count": 52
        }
      ]
    },
    {
      "cell_type": "code",
      "metadata": {
        "id": "aisVDJGMB6OO",
        "colab_type": "code",
        "colab": {
          "base_uri": "https://localhost:8080/",
          "height": 204
        },
        "outputId": "fed5b232-e495-42e1-b06f-2d8f04337ca4"
      },
      "source": [
        "states.head()"
      ],
      "execution_count": 53,
      "outputs": [
        {
          "output_type": "execute_result",
          "data": {
            "text/html": [
              "<div>\n",
              "<style scoped>\n",
              "    .dataframe tbody tr th:only-of-type {\n",
              "        vertical-align: middle;\n",
              "    }\n",
              "\n",
              "    .dataframe tbody tr th {\n",
              "        vertical-align: top;\n",
              "    }\n",
              "\n",
              "    .dataframe thead th {\n",
              "        text-align: right;\n",
              "    }\n",
              "</style>\n",
              "<table border=\"1\" class=\"dataframe\">\n",
              "  <thead>\n",
              "    <tr style=\"text-align: right;\">\n",
              "      <th></th>\n",
              "      <th>AREA</th>\n",
              "      <th>PERIMETER</th>\n",
              "      <th>COV_</th>\n",
              "      <th>COV_ID</th>\n",
              "      <th>ENTIDAD</th>\n",
              "      <th>CAPITAL</th>\n",
              "      <th>RASGO_GEOG</th>\n",
              "      <th>NUM_EDO</th>\n",
              "      <th>geometry</th>\n",
              "    </tr>\n",
              "  </thead>\n",
              "  <tbody>\n",
              "    <tr>\n",
              "      <th>0</th>\n",
              "      <td>7.168906e+10</td>\n",
              "      <td>2.279617e+06</td>\n",
              "      <td>2</td>\n",
              "      <td>1</td>\n",
              "      <td>BAJA CALIFORNIA</td>\n",
              "      <td>Mexicali</td>\n",
              "      <td>None</td>\n",
              "      <td>02</td>\n",
              "      <td>POLYGON ((1074506.248 2330373.415, 1074542.436...</td>\n",
              "    </tr>\n",
              "    <tr>\n",
              "      <th>1</th>\n",
              "      <td>4.778331e+05</td>\n",
              "      <td>3.517358e+03</td>\n",
              "      <td>3</td>\n",
              "      <td>3</td>\n",
              "      <td>BAJA CALIFORNIA</td>\n",
              "      <td>None</td>\n",
              "      <td>ISLA</td>\n",
              "      <td>02</td>\n",
              "      <td>POLYGON ((1054502.524 2340181.163, 1054435.523...</td>\n",
              "    </tr>\n",
              "    <tr>\n",
              "      <th>2</th>\n",
              "      <td>4.242921e+04</td>\n",
              "      <td>9.162551e+02</td>\n",
              "      <td>4</td>\n",
              "      <td>4</td>\n",
              "      <td>BAJA CALIFORNIA</td>\n",
              "      <td>None</td>\n",
              "      <td>ISLA</td>\n",
              "      <td>02</td>\n",
              "      <td>POLYGON ((1057339.163 2338672.912, 1057314.350...</td>\n",
              "    </tr>\n",
              "    <tr>\n",
              "      <th>3</th>\n",
              "      <td>1.297597e+05</td>\n",
              "      <td>2.259749e+03</td>\n",
              "      <td>5</td>\n",
              "      <td>5</td>\n",
              "      <td>BAJA CALIFORNIA</td>\n",
              "      <td>None</td>\n",
              "      <td>ISLA</td>\n",
              "      <td>02</td>\n",
              "      <td>POLYGON ((1057559.166 2337684.659, 1057524.478...</td>\n",
              "    </tr>\n",
              "    <tr>\n",
              "      <th>4</th>\n",
              "      <td>1.479779e+06</td>\n",
              "      <td>7.917770e+03</td>\n",
              "      <td>6</td>\n",
              "      <td>6</td>\n",
              "      <td>BAJA CALIFORNIA</td>\n",
              "      <td>None</td>\n",
              "      <td>ISLA</td>\n",
              "      <td>02</td>\n",
              "      <td>POLYGON ((1059151.991 2334815.901, 1059113.928...</td>\n",
              "    </tr>\n",
              "  </tbody>\n",
              "</table>\n",
              "</div>"
            ],
            "text/plain": [
              "           AREA  ...                                           geometry\n",
              "0  7.168906e+10  ...  POLYGON ((1074506.248 2330373.415, 1074542.436...\n",
              "1  4.778331e+05  ...  POLYGON ((1054502.524 2340181.163, 1054435.523...\n",
              "2  4.242921e+04  ...  POLYGON ((1057339.163 2338672.912, 1057314.350...\n",
              "3  1.297597e+05  ...  POLYGON ((1057559.166 2337684.659, 1057524.478...\n",
              "4  1.479779e+06  ...  POLYGON ((1059151.991 2334815.901, 1059113.928...\n",
              "\n",
              "[5 rows x 9 columns]"
            ]
          },
          "metadata": {
            "tags": []
          },
          "execution_count": 53
        }
      ]
    },
    {
      "cell_type": "code",
      "metadata": {
        "id": "xhN6U1OoAq_7",
        "colab_type": "code",
        "colab": {
          "base_uri": "https://localhost:8080/",
          "height": 303
        },
        "outputId": "420692ae-1863-44cc-9fc4-206dd86a4eb9"
      },
      "source": [
        "states.plot()"
      ],
      "execution_count": 50,
      "outputs": [
        {
          "output_type": "execute_result",
          "data": {
            "text/plain": [
              "<matplotlib.axes._subplots.AxesSubplot at 0x7f5e635b3b38>"
            ]
          },
          "metadata": {
            "tags": []
          },
          "execution_count": 50
        },
        {
          "output_type": "display_data",
          "data": {
            "image/png": "[encoded data removed]",
            "text/plain": [
              "<Figure size 432x288 with 1 Axes>"
            ]
          },
          "metadata": {
            "tags": [],
            "needs_background": "light"
          }
        }
      ]
    },
    {
      "cell_type": "code",
      "metadata": {
        "id": "r3kVwknvA0fl",
        "colab_type": "code",
        "colab": {
          "base_uri": "https://localhost:8080/",
          "height": 153
        },
        "outputId": "8c5d3863-9a96-450e-ec26-f04bab930e2b"
      },
      "source": [
        "states['ENTIDAD'].unique()"
      ],
      "execution_count": 57,
      "outputs": [
        {
          "output_type": "execute_result",
          "data": {
            "text/plain": [
              "array(['BAJA CALIFORNIA', 'SONORA', 'CHIHUAHUA', 'COAHUILA DE ZARAGOZA',\n",
              "       'BAJA CALIFORNIA SUR', 'NUEVO LEON', 'TAMAULIPAS', 'SINALOA',\n",
              "       'DURANGO', 'ZACATECAS', 'SAN LUIS POTOSI', 'NAYARIT', 'JALISCO',\n",
              "       'VERACRUZ DE IGNACIO DE LA LLAVE', 'AGUASCALIENTES',\n",
              "       'QUINTANA ROO', 'YUCATAN', 'GUANAJUATO', 'QUERETARO DE ARTEAGA',\n",
              "       'CAMPECHE', 'HIDALGO', 'PUEBLA', 'MICHOACAN DE OCAMPO', 'MEXICO',\n",
              "       'TLAXCALA', 'DISTRITO FEDERAL', 'COLIMA', 'MORELOS', 'TABASCO',\n",
              "       'GUERRERO', 'OAXACA', 'CHIAPAS'], dtype=object)"
            ]
          },
          "metadata": {
            "tags": []
          },
          "execution_count": 57
        }
      ]
    },
    {
      "cell_type": "code",
      "metadata": {
        "id": "y1N_u7IoEszQ",
        "colab_type": "code",
        "colab": {
          "base_uri": "https://localhost:8080/",
          "height": 119
        },
        "outputId": "4d907850-3b62-4ae7-ed98-5851d3f3e9fe"
      },
      "source": [
        "is_Jalisco =  states['ENTIDAD']=='JALISCO'\n",
        "is_Jalisco.head()"
      ],
      "execution_count": 58,
      "outputs": [
        {
          "output_type": "execute_result",
          "data": {
            "text/plain": [
              "0    False\n",
              "1    False\n",
              "2    False\n",
              "3    False\n",
              "4    False\n",
              "Name: ENTIDAD, dtype: bool"
            ]
          },
          "metadata": {
            "tags": []
          },
          "execution_count": 58
        }
      ]
    },
    {
      "cell_type": "code",
      "metadata": {
        "id": "_u0HJLr9GTlF",
        "colab_type": "code",
        "colab": {
          "base_uri": "https://localhost:8080/",
          "height": 34
        },
        "outputId": "e49e7b81-43da-42a8-a7d5-2284f866b024"
      },
      "source": [
        "stateJalisco=states[is_Jalisco]\n",
        "stateJalisco.shape"
      ],
      "execution_count": 60,
      "outputs": [
        {
          "output_type": "execute_result",
          "data": {
            "text/plain": [
              "(23, 9)"
            ]
          },
          "metadata": {
            "tags": []
          },
          "execution_count": 60
        }
      ]
    },
    {
      "cell_type": "code",
      "metadata": {
        "id": "ftMaram-GmTY",
        "colab_type": "code",
        "colab": {
          "base_uri": "https://localhost:8080/",
          "height": 204
        },
        "outputId": "289d2f0b-3013-47ef-820c-e658e3ba6b76"
      },
      "source": [
        "stateJalisco.head()"
      ],
      "execution_count": 61,
      "outputs": [
        {
          "output_type": "execute_result",
          "data": {
            "text/html": [
              "<div>\n",
              "<style scoped>\n",
              "    .dataframe tbody tr th:only-of-type {\n",
              "        vertical-align: middle;\n",
              "    }\n",
              "\n",
              "    .dataframe tbody tr th {\n",
              "        vertical-align: top;\n",
              "    }\n",
              "\n",
              "    .dataframe thead th {\n",
              "        text-align: right;\n",
              "    }\n",
              "</style>\n",
              "<table border=\"1\" class=\"dataframe\">\n",
              "  <thead>\n",
              "    <tr style=\"text-align: right;\">\n",
              "      <th></th>\n",
              "      <th>AREA</th>\n",
              "      <th>PERIMETER</th>\n",
              "      <th>COV_</th>\n",
              "      <th>COV_ID</th>\n",
              "      <th>ENTIDAD</th>\n",
              "      <th>CAPITAL</th>\n",
              "      <th>RASGO_GEOG</th>\n",
              "      <th>NUM_EDO</th>\n",
              "      <th>geometry</th>\n",
              "    </tr>\n",
              "  </thead>\n",
              "  <tbody>\n",
              "    <tr>\n",
              "      <th>785</th>\n",
              "      <td>7.796039e+10</td>\n",
              "      <td>3.638383e+06</td>\n",
              "      <td>787</td>\n",
              "      <td>784</td>\n",
              "      <td>JALISCO</td>\n",
              "      <td>Guadalajara</td>\n",
              "      <td>None</td>\n",
              "      <td>14</td>\n",
              "      <td>POLYGON ((2319138.321 1190015.551, 2319144.571...</td>\n",
              "    </tr>\n",
              "    <tr>\n",
              "      <th>878</th>\n",
              "      <td>1.899474e+04</td>\n",
              "      <td>6.549044e+02</td>\n",
              "      <td>880</td>\n",
              "      <td>875</td>\n",
              "      <td>JALISCO</td>\n",
              "      <td>None</td>\n",
              "      <td>ISLA</td>\n",
              "      <td>14</td>\n",
              "      <td>POLYGON ((2158058.226 952619.236, 2158014.976 ...</td>\n",
              "    </tr>\n",
              "    <tr>\n",
              "      <th>879</th>\n",
              "      <td>3.353069e+03</td>\n",
              "      <td>2.128390e+02</td>\n",
              "      <td>881</td>\n",
              "      <td>876</td>\n",
              "      <td>JALISCO</td>\n",
              "      <td>None</td>\n",
              "      <td>ISLA</td>\n",
              "      <td>14</td>\n",
              "      <td>POLYGON ((2158285.727 952618.236, 2158263.852 ...</td>\n",
              "    </tr>\n",
              "    <tr>\n",
              "      <th>918</th>\n",
              "      <td>4.891852e+03</td>\n",
              "      <td>2.620654e+02</td>\n",
              "      <td>920</td>\n",
              "      <td>885</td>\n",
              "      <td>JALISCO</td>\n",
              "      <td>None</td>\n",
              "      <td>ISLA</td>\n",
              "      <td>14</td>\n",
              "      <td>POLYGON ((2150618.146 867193.758, 2150574.521 ...</td>\n",
              "    </tr>\n",
              "    <tr>\n",
              "      <th>921</th>\n",
              "      <td>2.274737e+04</td>\n",
              "      <td>6.962042e+02</td>\n",
              "      <td>923</td>\n",
              "      <td>903</td>\n",
              "      <td>JALISCO</td>\n",
              "      <td>None</td>\n",
              "      <td>ISLA</td>\n",
              "      <td>14</td>\n",
              "      <td>POLYGON ((2170810.373 845929.127, 2170803.248 ...</td>\n",
              "    </tr>\n",
              "  </tbody>\n",
              "</table>\n",
              "</div>"
            ],
            "text/plain": [
              "             AREA  ...                                           geometry\n",
              "785  7.796039e+10  ...  POLYGON ((2319138.321 1190015.551, 2319144.571...\n",
              "878  1.899474e+04  ...  POLYGON ((2158058.226 952619.236, 2158014.976 ...\n",
              "879  3.353069e+03  ...  POLYGON ((2158285.727 952618.236, 2158263.852 ...\n",
              "918  4.891852e+03  ...  POLYGON ((2150618.146 867193.758, 2150574.521 ...\n",
              "921  2.274737e+04  ...  POLYGON ((2170810.373 845929.127, 2170803.248 ...\n",
              "\n",
              "[5 rows x 9 columns]"
            ]
          },
          "metadata": {
            "tags": []
          },
          "execution_count": 61
        }
      ]
    },
    {
      "cell_type": "code",
      "metadata": {
        "id": "InEd6q5uGs0U",
        "colab_type": "code",
        "colab": {
          "base_uri": "https://localhost:8080/",
          "height": 306
        },
        "outputId": "3667a2b9-89a9-4ad5-dbbb-eafb283728be"
      },
      "source": [
        "stateJalisco.plot()"
      ],
      "execution_count": 62,
      "outputs": [
        {
          "output_type": "execute_result",
          "data": {
            "text/plain": [
              "<matplotlib.axes._subplots.AxesSubplot at 0x7f5e5b314518>"
            ]
          },
          "metadata": {
            "tags": []
          },
          "execution_count": 62
        },
        {
          "output_type": "display_data",
          "data": {
            "image/png": "[encoded data removed]",
            "text/plain": [
              "<Figure size 432x288 with 1 Axes>"
            ]
          },
          "metadata": {
            "tags": [],
            "needs_background": "light"
          }
        }
      ]
    },
    {
      "cell_type": "code",
      "metadata": {
        "id": "nqco5VSRHH7O",
        "colab_type": "code",
        "colab": {
          "base_uri": "https://localhost:8080/",
          "height": 34
        },
        "outputId": "31e40325-0b3c-4568-e821-6ac12ab34801"
      },
      "source": [
        "stateJalisco['RASGO_GEOG'].unique()"
      ],
      "execution_count": 63,
      "outputs": [
        {
          "output_type": "execute_result",
          "data": {
            "text/plain": [
              "array([None, 'ISLA'], dtype=object)"
            ]
          },
          "metadata": {
            "tags": []
          },
          "execution_count": 63
        }
      ]
    },
    {
      "cell_type": "code",
      "metadata": {
        "id": "g1gVBTNHH_Ij",
        "colab_type": "code",
        "colab": {
          "base_uri": "https://localhost:8080/",
          "height": 306
        },
        "outputId": "dac70350-07c7-4896-db9b-34c35d8855b0"
      },
      "source": [
        "states[states['ENTIDAD']=='QUINTANA ROO'].plot()"
      ],
      "execution_count": 64,
      "outputs": [
        {
          "output_type": "execute_result",
          "data": {
            "text/plain": [
              "<matplotlib.axes._subplots.AxesSubplot at 0x7f5e5b3b2358>"
            ]
          },
          "metadata": {
            "tags": []
          },
          "execution_count": 64
        },
        {
          "output_type": "display_data",
          "data": {
            "image/png": "[encoded data removed]",
            "text/plain": [
              "<Figure size 432x288 with 1 Axes>"
            ]
          },
          "metadata": {
            "tags": [],
            "needs_background": "light"
          }
        }
      ]
    }
  ]
}